{
 "cells": [
  {
   "cell_type": "code",
   "execution_count": 50,
   "metadata": {
    "collapsed": true
   },
   "outputs": [],
   "source": [
    "import pandas as pd\n",
    "import numpy as np"
   ]
  },
  {
   "cell_type": "code",
   "execution_count": 51,
   "metadata": {
    "collapsed": true
   },
   "outputs": [],
   "source": [
    "# Read in all the data we've got\n",
    "tweets = pd.read_csv(\"Tweets/4Classes.csv\", encoding='utf-8', engine='python')"
   ]
  },
  {
   "cell_type": "code",
   "execution_count": 52,
   "metadata": {
    "collapsed": false
   },
   "outputs": [
    {
     "data": {
      "text/plain": [
       "Ellen    3246\nElon     3218\nObama    3217\nTrump    3208\nName: id, dtype: int64"
      ]
     },
     "execution_count": 52,
     "metadata": {},
     "output_type": "execute_result"
    }
   ],
   "source": [
    "# How many of each genre do we have\n",
    "tweets['id'].value_counts()"
   ]
  },
  {
   "cell_type": "code",
   "execution_count": 53,
   "metadata": {
    "collapsed": false
   },
   "outputs": [
    {
     "name": "stdout",
     "output_type": "stream",
     "text": [
      "[u'Trump' u'Obama' u'Ellen' u'Elon']\n"
     ]
    }
   ],
   "source": [
    "# Looks like Folk has the least, grab that so we can make an evenly distrobuted set\n",
    "id_min = tweets['id'].value_counts().min()\n",
    "\n",
    "print tweets['id'].unique()\n",
    "\n",
    "# Here's a whopper\n",
    "# Just sample `genre_min` number of songs from each genre\n",
    "even = pd.concat(map(lambda id: tweets[tweets['id'] == id].sample(id_min), tweets['id'].unique()))"
   ]
  },
  {
   "cell_type": "code",
   "execution_count": 54,
   "metadata": {},
   "outputs": [
    {
     "data": {
      "text/plain": [
       "Obama    3208\nEllen    3208\nTrump    3208\nElon     3208\nName: id, dtype: int64"
      ]
     },
     "execution_count": 54,
     "metadata": {},
     "output_type": "execute_result"
    }
   ],
   "source": [
    "# Check the above worked - all genres have the same number of samples \n",
    "even['id'].value_counts()"
   ]
  },
  {
   "cell_type": "code",
   "execution_count": 55,
   "metadata": {
    "collapsed": false
   },
   "outputs": [],
   "source": [
    "# Split into training / testing\n",
    "mask = np.random.rand(len(even)) < 0.8\n",
    "\n",
    "train = even[mask]\n",
    "test = even[~mask]\n",
    "\n",
    "train.to_csv(\"Tweets/tweet4-even-train.csv\", index=False, encoding=\"utf-8\")\n",
    "test.to_csv(\"Tweets/tweet4-even-test.csv\", index=False, encoding=\"utf-8\")"
   ]
  },
  {
   "cell_type": "code",
   "execution_count": 48,
   "metadata": {},
   "outputs": [],
   "source": [
    ""
   ]
  },
  {
   "cell_type": "code",
   "execution_count": null,
   "metadata": {},
   "outputs": [],
   "source": [
    ""
   ]
  }
 ],
 "metadata": {
  "kernelspec": {
   "display_name": "Python 3",
   "language": "python",
   "name": "python3"
  },
  "language_info": {
   "codemirror_mode": {
    "name": "ipython",
    "version": 3.0
   },
   "file_extension": ".py",
   "mimetype": "text/x-python",
   "name": "python",
   "nbconvert_exporter": "python",
   "pygments_lexer": "ipython3",
   "version": "3.5.3"
  }
 },
 "nbformat": 4,
 "nbformat_minor": 0
}