{
 "cells": [
  {
   "cell_type": "code",
   "execution_count": 7,
   "metadata": {
    "collapsed": true
   },
   "outputs": [],
   "source": [
    "import pandas as pd\n",
    "import numpy as np"
   ]
  },
  {
   "cell_type": "code",
   "execution_count": 8,
   "metadata": {
    "collapsed": true
   },
   "outputs": [],
   "source": [
    "# Read in all the data we've got\n",
    "tweets = pd.read_csv(\"Tweets/4SepClasses.csv\")\n",
    "\n",
    "tweets[\"text\"] = tweets.text.str.replace(\"\\'\",'')\n",
    "tweets[\"text\"] = tweets.text.str.replace(\",\",'')\n",
    "tweets[\"text\"] = tweets.text.str.replace(\"@\",'')\n",
    "tweets[\"text\"] = tweets.text.str.replace('\\\"','')\n",
    "tweets[\"text\"] = tweets.text.str.replace('\\t','')"
   ]
  },
  {
   "cell_type": "code",
   "execution_count": 9,
   "metadata": {},
   "outputs": [
    {
     "data": {
      "text/plain": [
       "Ellen    3246\nTrump    3236\nObama    3226\nElon     3216\nName: id, dtype: int64"
      ]
     },
     "execution_count": 9,
     "metadata": {},
     "output_type": "execute_result"
    }
   ],
   "source": [
    "# How many of each genre do we have\n",
    "tweets['id'].value_counts()"
   ]
  },
  {
   "cell_type": "code",
   "execution_count": 10,
   "metadata": {
    "collapsed": true
   },
   "outputs": [],
   "source": [
    "# Looks like Folk has the least, grab that so we can make an evenly distrobuted set\n",
    "id_min = tweets['id'].value_counts().min()\n",
    "\n",
    "# Here's a whopper\n",
    "# Just sample `genre_min` number of songs from each genre\n",
    "even = pd.concat(map(lambda id: tweets[tweets['id'] == id].sample(id_min), tweets['id'].unique()))"
   ]
  },
  {
   "cell_type": "code",
   "execution_count": 11,
   "metadata": {},
   "outputs": [
    {
     "data": {
      "text/plain": [
       "Obama    3216\nEllen    3216\nTrump    3216\nElon     3216\nName: id, dtype: int64"
      ]
     },
     "execution_count": 11,
     "metadata": {},
     "output_type": "execute_result"
    }
   ],
   "source": [
    "# Check the above worked - all genres have the same number of samples \n",
    "even['id'].value_counts()"
   ]
  },
  {
   "cell_type": "code",
   "execution_count": 12,
   "metadata": {
    "collapsed": false
   },
   "outputs": [],
   "source": [
    "# Split into training / testing\n",
    "mask = np.random.rand(len(even)) < 0.8\n",
    "\n",
    "train = even[mask]\n",
    "test = even[~mask]\n",
    "\n",
    "train.to_csv(\"Tweets/tweet-even-train.csv\", index=False)\n",
    "test.to_csv(\"Tweets/tweet-even-test.csv\", index=False)"
   ]
  },
  {
   "cell_type": "code",
   "execution_count": 9,
   "metadata": {},
   "outputs": [],
   "source": [
    ""
   ]
  },
  {
   "cell_type": "code",
   "execution_count": null,
   "metadata": {},
   "outputs": [],
   "source": [
    ""
   ]
  }
 ],
 "metadata": {
  "kernelspec": {
   "display_name": "Python 3",
   "language": "python",
   "name": "python3"
  },
  "language_info": {
   "codemirror_mode": {
    "name": "ipython",
    "version": 3.0
   },
   "file_extension": ".py",
   "mimetype": "text/x-python",
   "name": "python",
   "nbconvert_exporter": "python",
   "pygments_lexer": "ipython3",
   "version": "3.5.3"
  }
 },
 "nbformat": 4,
 "nbformat_minor": 0
}